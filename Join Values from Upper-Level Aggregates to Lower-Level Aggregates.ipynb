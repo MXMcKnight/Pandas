{
 "cells": [
  {
   "cell_type": "markdown",
   "metadata": {},
   "source": [
    "# Join Values from Upper-Level Aggregates to Lower-Level Aggregates - 2010 PA Household Income"
   ]
  },
  {
   "cell_type": "markdown",
   "metadata": {},
   "source": [
    "## Import Libraries"
   ]
  },
  {
   "cell_type": "code",
   "execution_count": 1,
   "metadata": {},
   "outputs": [],
   "source": [
    "# Import libraries\n",
    "import arcpy\n",
    "import glob\n",
    "import pandas as pd\n",
    "import numpy as np\n",
    "import warnings\n",
    "from functools import reduce\n",
    "np.set_printoptions(threshold = sys.maxsize) # view entire NumPy array\n",
    "warnings.filterwarnings('ignore') # supress warnings"
   ]
  },
  {
   "cell_type": "markdown",
   "metadata": {},
   "source": [
    "## Read Data"
   ]
  },
  {
   "cell_type": "code",
   "execution_count": 2,
   "metadata": {},
   "outputs": [],
   "source": [
    "# Read in county and tract-level income data\n",
    "(county, tract, block_group) = (pd.read_csv(r'data/pa_county_original.csv').drop([0, 0], axis = 0),\n",
    "                                pd.read_csv(r'data/pa_tract_original.csv').drop([0, 0], axis = 0), \n",
    "                                pd.read_csv(r'data/pa_block_group_original.csv'))"
   ]
  },
  {
   "cell_type": "markdown",
   "metadata": {},
   "source": [
    "## Clean Data"
   ]
  },
  {
   "cell_type": "markdown",
   "metadata": {},
   "source": [
    "### County-Level Data"
   ]
  },
  {
   "cell_type": "code",
   "execution_count": 3,
   "metadata": {},
   "outputs": [
    {
     "data": {
      "text/plain": [
       "0"
      ]
     },
     "execution_count": 3,
     "metadata": {},
     "output_type": "execute_result"
    }
   ],
   "source": [
    "# Check for NaN values in the `HC01_EST_VC13` column\n",
    "county['HC01_EST_VC13'].isna().sum()"
   ]
  },
  {
   "cell_type": "code",
   "execution_count": 4,
   "metadata": {},
   "outputs": [
    {
     "data": {
      "text/html": [
       "<div>\n",
       "<style scoped>\n",
       "    .dataframe tbody tr th:only-of-type {\n",
       "        vertical-align: middle;\n",
       "    }\n",
       "\n",
       "    .dataframe tbody tr th {\n",
       "        vertical-align: top;\n",
       "    }\n",
       "\n",
       "    .dataframe thead th {\n",
       "        text-align: right;\n",
       "    }\n",
       "</style>\n",
       "<table border=\"1\" class=\"dataframe\">\n",
       "  <thead>\n",
       "    <tr style=\"text-align: right;\">\n",
       "      <th></th>\n",
       "      <th>county_fips</th>\n",
       "      <th>county</th>\n",
       "      <th>county_income</th>\n",
       "    </tr>\n",
       "  </thead>\n",
       "  <tbody>\n",
       "    <tr>\n",
       "      <th>1</th>\n",
       "      <td>42001</td>\n",
       "      <td>Adams County</td>\n",
       "      <td>56529</td>\n",
       "    </tr>\n",
       "    <tr>\n",
       "      <th>2</th>\n",
       "      <td>42003</td>\n",
       "      <td>Allegheny County</td>\n",
       "      <td>47961</td>\n",
       "    </tr>\n",
       "    <tr>\n",
       "      <th>3</th>\n",
       "      <td>42005</td>\n",
       "      <td>Armstrong County</td>\n",
       "      <td>42752</td>\n",
       "    </tr>\n",
       "  </tbody>\n",
       "</table>\n",
       "</div>"
      ],
      "text/plain": [
       "  county_fips            county county_income\n",
       "1       42001      Adams County         56529\n",
       "2       42003  Allegheny County         47961\n",
       "3       42005  Armstrong County         42752"
      ]
     },
     "execution_count": 4,
     "metadata": {},
     "output_type": "execute_result"
    }
   ],
   "source": [
    "# Clean the `county` data frame\n",
    "county_cleaned = pd.DataFrame() \n",
    "county_cleaned['county_fips'] = county['GEO.id2']\n",
    "county_cleaned['county'] = county['GEO.display-label'].str.split(',').str[0]\n",
    "county_cleaned['county_income'] = county['HC01_EST_VC13']\n",
    "county_cleaned.head(3)"
   ]
  },
  {
   "cell_type": "code",
   "execution_count": 5,
   "metadata": {},
   "outputs": [],
   "source": [
    "# Write 'county_cleaned' data frame to CSV\n",
    "county_cleaned.to_csv(r'data/2020.02.25_pa_county.csv')"
   ]
  },
  {
   "cell_type": "markdown",
   "metadata": {},
   "source": [
    "### Tract-Level Data"
   ]
  },
  {
   "cell_type": "code",
   "execution_count": 6,
   "metadata": {},
   "outputs": [
    {
     "data": {
      "text/plain": [
       "33"
      ]
     },
     "execution_count": 6,
     "metadata": {},
     "output_type": "execute_result"
    }
   ],
   "source": [
    "# Check for NaN values in the `HC01_EST_VC13` column\n",
    "tract['HC01_EST_VC13'] = tract['HC01_EST_VC13'].replace('-', np.nan)\n",
    "tract['HC01_EST_VC13'] = tract['HC01_EST_VC13'].replace('250,000+', '250000')\n",
    "tract['HC01_EST_VC13'].isna().sum()"
   ]
  },
  {
   "cell_type": "code",
   "execution_count": 7,
   "metadata": {},
   "outputs": [
    {
     "data": {
      "text/plain": [
       "52834.855886970174"
      ]
     },
     "execution_count": 7,
     "metadata": {},
     "output_type": "execute_result"
    }
   ],
   "source": [
    "# Get the mean value of the `HC01_EST_VC13` column\n",
    "tract['HC01_EST_VC13'] = tract['HC01_EST_VC13'].astype(float)\n",
    "tract['HC01_EST_VC13'].mean()"
   ]
  },
  {
   "cell_type": "code",
   "execution_count": 8,
   "metadata": {},
   "outputs": [
    {
     "data": {
      "text/html": [
       "<div>\n",
       "<style scoped>\n",
       "    .dataframe tbody tr th:only-of-type {\n",
       "        vertical-align: middle;\n",
       "    }\n",
       "\n",
       "    .dataframe tbody tr th {\n",
       "        vertical-align: top;\n",
       "    }\n",
       "\n",
       "    .dataframe thead th {\n",
       "        text-align: right;\n",
       "    }\n",
       "</style>\n",
       "<table border=\"1\" class=\"dataframe\">\n",
       "  <thead>\n",
       "    <tr style=\"text-align: right;\">\n",
       "      <th></th>\n",
       "      <th>tract_fips</th>\n",
       "      <th>tract</th>\n",
       "      <th>tract_income</th>\n",
       "    </tr>\n",
       "  </thead>\n",
       "  <tbody>\n",
       "    <tr>\n",
       "      <th>1</th>\n",
       "      <td>42001030101</td>\n",
       "      <td>Census Tract 301.01</td>\n",
       "      <td>70729.0</td>\n",
       "    </tr>\n",
       "    <tr>\n",
       "      <th>2</th>\n",
       "      <td>42001030102</td>\n",
       "      <td>Census Tract 301.02</td>\n",
       "      <td>62372.0</td>\n",
       "    </tr>\n",
       "    <tr>\n",
       "      <th>3</th>\n",
       "      <td>42001030200</td>\n",
       "      <td>Census Tract 302</td>\n",
       "      <td>52424.0</td>\n",
       "    </tr>\n",
       "  </tbody>\n",
       "</table>\n",
       "</div>"
      ],
      "text/plain": [
       "    tract_fips                tract  tract_income\n",
       "1  42001030101  Census Tract 301.01       70729.0\n",
       "2  42001030102  Census Tract 301.02       62372.0\n",
       "3  42001030200     Census Tract 302       52424.0"
      ]
     },
     "execution_count": 8,
     "metadata": {},
     "output_type": "execute_result"
    }
   ],
   "source": [
    "# Clean the `tract` data frame\n",
    "tract_cleaned = pd.DataFrame() \n",
    "tract_cleaned['tract_fips'] = tract['GEO.id2']\n",
    "tract_cleaned['tract'] = tract['GEO.display-label'].str.split(',').str[0]\n",
    "tract_cleaned['tract_income'] = tract['HC01_EST_VC13']\n",
    "tract_cleaned['tract_income'] = tract_cleaned['tract_income'].replace(np.nan, 52835)\n",
    "tract_cleaned.head(3)"
   ]
  },
  {
   "cell_type": "code",
   "execution_count": 9,
   "metadata": {},
   "outputs": [],
   "source": [
    "# Write 'tract_cleaned' data frame to CSV\n",
    "tract_cleaned.to_csv(r'data/2020.02.25_pa_tract.csv')"
   ]
  },
  {
   "cell_type": "markdown",
   "metadata": {},
   "source": [
    "### Block Group-Level Data"
   ]
  },
  {
   "cell_type": "code",
   "execution_count": 10,
   "metadata": {},
   "outputs": [
    {
     "data": {
      "text/plain": [
       "49"
      ]
     },
     "execution_count": 10,
     "metadata": {},
     "output_type": "execute_result"
    }
   ],
   "source": [
    "# Check for NaN values in the `B19013e1` column\n",
    "block_group['B19013e1'].isna().sum()"
   ]
  },
  {
   "cell_type": "code",
   "execution_count": 11,
   "metadata": {},
   "outputs": [
    {
     "data": {
      "text/plain": [
       "52552.59735837375"
      ]
     },
     "execution_count": 11,
     "metadata": {},
     "output_type": "execute_result"
    }
   ],
   "source": [
    "# Get the mean value of the `B19013e1` column\n",
    "block_group['B19013e1'].mean()"
   ]
  },
  {
   "cell_type": "code",
   "execution_count": 12,
   "metadata": {},
   "outputs": [
    {
     "data": {
      "text/html": [
       "<div>\n",
       "<style scoped>\n",
       "    .dataframe tbody tr th:only-of-type {\n",
       "        vertical-align: middle;\n",
       "    }\n",
       "\n",
       "    .dataframe tbody tr th {\n",
       "        vertical-align: top;\n",
       "    }\n",
       "\n",
       "    .dataframe thead th {\n",
       "        text-align: right;\n",
       "    }\n",
       "</style>\n",
       "<table border=\"1\" class=\"dataframe\">\n",
       "  <thead>\n",
       "    <tr style=\"text-align: right;\">\n",
       "      <th></th>\n",
       "      <th>block_group_fips</th>\n",
       "      <th>block_group</th>\n",
       "      <th>block_group_income</th>\n",
       "    </tr>\n",
       "  </thead>\n",
       "  <tbody>\n",
       "    <tr>\n",
       "      <th>0</th>\n",
       "      <td>420035003001</td>\n",
       "      <td>Block Group 1</td>\n",
       "      <td>38191.0</td>\n",
       "    </tr>\n",
       "    <tr>\n",
       "      <th>1</th>\n",
       "      <td>420034994002</td>\n",
       "      <td>Block Group 2</td>\n",
       "      <td>23750.0</td>\n",
       "    </tr>\n",
       "    <tr>\n",
       "      <th>2</th>\n",
       "      <td>420034994001</td>\n",
       "      <td>Block Group 1</td>\n",
       "      <td>33750.0</td>\n",
       "    </tr>\n",
       "  </tbody>\n",
       "</table>\n",
       "</div>"
      ],
      "text/plain": [
       "   block_group_fips    block_group  block_group_income\n",
       "0      420035003001  Block Group 1             38191.0\n",
       "1      420034994002  Block Group 2             23750.0\n",
       "2      420034994001  Block Group 1             33750.0"
      ]
     },
     "execution_count": 12,
     "metadata": {},
     "output_type": "execute_result"
    }
   ],
   "source": [
    "# Clean the `block_group` data frame\n",
    "block_group_cleaned = pd.DataFrame() \n",
    "block_group_cleaned['block_group_fips'] = block_group['GEOID10']\n",
    "block_group_cleaned['block_group'] = block_group['NAMELSAD10']\n",
    "block_group_cleaned['block_group_income'] = block_group['B19013e1']\n",
    "block_group_cleaned['block_group_income'] = block_group_cleaned['block_group_income'].replace(np.nan, 52554)\n",
    "block_group_cleaned.head(3)"
   ]
  },
  {
   "cell_type": "code",
   "execution_count": 13,
   "metadata": {},
   "outputs": [],
   "source": [
    "# Write 'block_group_cleaned' data frame to CSV\n",
    "block_group_cleaned.to_csv(r'data/2020.02.25_pa_block_group.csv')"
   ]
  },
  {
   "cell_type": "markdown",
   "metadata": {},
   "source": [
    "## Process Data"
   ]
  },
  {
   "cell_type": "markdown",
   "metadata": {},
   "source": [
    "### Join Values from Upper-Level Aggregates to Lower-Level Aggregates"
   ]
  },
  {
   "cell_type": "markdown",
   "metadata": {},
   "source": [
    "#### County-Tract Merge"
   ]
  },
  {
   "cell_type": "code",
   "execution_count": 14,
   "metadata": {},
   "outputs": [],
   "source": [
    "# Merge `tract_cleaned` and `county_cleaned`\n",
    "county_tract = tract_cleaned.merge(county_cleaned, \n",
    "                                   left_on = tract_cleaned['tract_fips'].astype('str').str[0:5],\n",
    "                                   right_on = county_cleaned['county_fips'].astype('str'))\n",
    "county_tract = county_tract.drop(['key_0'], axis = 1)"
   ]
  },
  {
   "cell_type": "code",
   "execution_count": 15,
   "metadata": {},
   "outputs": [],
   "source": [
    "# Add `state` and `state_fips` columns\n",
    "county_tract['state'] = 'Pennsylvania'\n",
    "county_tract['state_fips'] = '42'"
   ]
  },
  {
   "cell_type": "code",
   "execution_count": 16,
   "metadata": {},
   "outputs": [
    {
     "data": {
      "text/html": [
       "<div>\n",
       "<style scoped>\n",
       "    .dataframe tbody tr th:only-of-type {\n",
       "        vertical-align: middle;\n",
       "    }\n",
       "\n",
       "    .dataframe tbody tr th {\n",
       "        vertical-align: top;\n",
       "    }\n",
       "\n",
       "    .dataframe thead th {\n",
       "        text-align: right;\n",
       "    }\n",
       "</style>\n",
       "<table border=\"1\" class=\"dataframe\">\n",
       "  <thead>\n",
       "    <tr style=\"text-align: right;\">\n",
       "      <th></th>\n",
       "      <th>state</th>\n",
       "      <th>state_fips</th>\n",
       "      <th>county</th>\n",
       "      <th>county_fips</th>\n",
       "      <th>county_income</th>\n",
       "      <th>tract</th>\n",
       "      <th>tract_fips</th>\n",
       "      <th>tract_income</th>\n",
       "    </tr>\n",
       "  </thead>\n",
       "  <tbody>\n",
       "    <tr>\n",
       "      <th>0</th>\n",
       "      <td>Pennsylvania</td>\n",
       "      <td>42</td>\n",
       "      <td>Adams County</td>\n",
       "      <td>42001</td>\n",
       "      <td>56529</td>\n",
       "      <td>Census Tract 301.01</td>\n",
       "      <td>42001030101</td>\n",
       "      <td>70729.0</td>\n",
       "    </tr>\n",
       "    <tr>\n",
       "      <th>1</th>\n",
       "      <td>Pennsylvania</td>\n",
       "      <td>42</td>\n",
       "      <td>Adams County</td>\n",
       "      <td>42001</td>\n",
       "      <td>56529</td>\n",
       "      <td>Census Tract 301.02</td>\n",
       "      <td>42001030102</td>\n",
       "      <td>62372.0</td>\n",
       "    </tr>\n",
       "    <tr>\n",
       "      <th>2</th>\n",
       "      <td>Pennsylvania</td>\n",
       "      <td>42</td>\n",
       "      <td>Adams County</td>\n",
       "      <td>42001</td>\n",
       "      <td>56529</td>\n",
       "      <td>Census Tract 302</td>\n",
       "      <td>42001030200</td>\n",
       "      <td>52424.0</td>\n",
       "    </tr>\n",
       "  </tbody>\n",
       "</table>\n",
       "</div>"
      ],
      "text/plain": [
       "          state state_fips        county county_fips county_income  \\\n",
       "0  Pennsylvania         42  Adams County       42001         56529   \n",
       "1  Pennsylvania         42  Adams County       42001         56529   \n",
       "2  Pennsylvania         42  Adams County       42001         56529   \n",
       "\n",
       "                 tract   tract_fips  tract_income  \n",
       "0  Census Tract 301.01  42001030101       70729.0  \n",
       "1  Census Tract 301.02  42001030102       62372.0  \n",
       "2     Census Tract 302  42001030200       52424.0  "
      ]
     },
     "execution_count": 16,
     "metadata": {},
     "output_type": "execute_result"
    }
   ],
   "source": [
    "# Reorder columns\n",
    "county_tract = county_tract[['state', 'state_fips', 'county', 'county_fips', 'county_income', 'tract', 'tract_fips', \n",
    "                             'tract_income']]\n",
    "county_tract.head(3)"
   ]
  },
  {
   "cell_type": "code",
   "execution_count": 17,
   "metadata": {},
   "outputs": [],
   "source": [
    "# Write `county_tract` to CSV\n",
    "county_tract.to_csv(r'data/2020.02.25_pa_county_tract.csv')"
   ]
  },
  {
   "cell_type": "markdown",
   "metadata": {},
   "source": [
    "#### County-Block Group Merge"
   ]
  },
  {
   "cell_type": "code",
   "execution_count": 18,
   "metadata": {},
   "outputs": [],
   "source": [
    "# Merge `block_group_cleaned` and `county_cleaned`\n",
    "county_block_group = block_group_cleaned.merge(county_cleaned, \n",
    "                                               left_on = block_group_cleaned['block_group_fips'].astype('str').str[:5], \n",
    "                                               right_on = county_cleaned['county_fips'].astype('str'))\n",
    "county_block_group = county_block_group.drop(['key_0'], axis = 1)"
   ]
  },
  {
   "cell_type": "code",
   "execution_count": 19,
   "metadata": {},
   "outputs": [],
   "source": [
    "# Add `state` and `state_fips` columns\n",
    "county_block_group['state'] = 'Pennsylvania'\n",
    "county_block_group['state_fips'] = '42'"
   ]
  },
  {
   "cell_type": "code",
   "execution_count": 20,
   "metadata": {},
   "outputs": [
    {
     "data": {
      "text/html": [
       "<div>\n",
       "<style scoped>\n",
       "    .dataframe tbody tr th:only-of-type {\n",
       "        vertical-align: middle;\n",
       "    }\n",
       "\n",
       "    .dataframe tbody tr th {\n",
       "        vertical-align: top;\n",
       "    }\n",
       "\n",
       "    .dataframe thead th {\n",
       "        text-align: right;\n",
       "    }\n",
       "</style>\n",
       "<table border=\"1\" class=\"dataframe\">\n",
       "  <thead>\n",
       "    <tr style=\"text-align: right;\">\n",
       "      <th></th>\n",
       "      <th>state</th>\n",
       "      <th>state_fips</th>\n",
       "      <th>county</th>\n",
       "      <th>county_fips</th>\n",
       "      <th>county_income</th>\n",
       "      <th>block_group</th>\n",
       "      <th>block_group_fips</th>\n",
       "      <th>block_group_income</th>\n",
       "    </tr>\n",
       "  </thead>\n",
       "  <tbody>\n",
       "    <tr>\n",
       "      <th>0</th>\n",
       "      <td>Pennsylvania</td>\n",
       "      <td>42</td>\n",
       "      <td>Allegheny County</td>\n",
       "      <td>42003</td>\n",
       "      <td>47961</td>\n",
       "      <td>Block Group 1</td>\n",
       "      <td>420035003001</td>\n",
       "      <td>38191.0</td>\n",
       "    </tr>\n",
       "    <tr>\n",
       "      <th>1</th>\n",
       "      <td>Pennsylvania</td>\n",
       "      <td>42</td>\n",
       "      <td>Allegheny County</td>\n",
       "      <td>42003</td>\n",
       "      <td>47961</td>\n",
       "      <td>Block Group 2</td>\n",
       "      <td>420034994002</td>\n",
       "      <td>23750.0</td>\n",
       "    </tr>\n",
       "    <tr>\n",
       "      <th>2</th>\n",
       "      <td>Pennsylvania</td>\n",
       "      <td>42</td>\n",
       "      <td>Allegheny County</td>\n",
       "      <td>42003</td>\n",
       "      <td>47961</td>\n",
       "      <td>Block Group 1</td>\n",
       "      <td>420034994001</td>\n",
       "      <td>33750.0</td>\n",
       "    </tr>\n",
       "  </tbody>\n",
       "</table>\n",
       "</div>"
      ],
      "text/plain": [
       "          state state_fips            county county_fips county_income  \\\n",
       "0  Pennsylvania         42  Allegheny County       42003         47961   \n",
       "1  Pennsylvania         42  Allegheny County       42003         47961   \n",
       "2  Pennsylvania         42  Allegheny County       42003         47961   \n",
       "\n",
       "     block_group  block_group_fips  block_group_income  \n",
       "0  Block Group 1      420035003001             38191.0  \n",
       "1  Block Group 2      420034994002             23750.0  \n",
       "2  Block Group 1      420034994001             33750.0  "
      ]
     },
     "execution_count": 20,
     "metadata": {},
     "output_type": "execute_result"
    }
   ],
   "source": [
    "# Reorder columns\n",
    "county_block_group = county_block_group[['state', 'state_fips', 'county', 'county_fips', 'county_income', 'block_group', \n",
    "                                         'block_group_fips', 'block_group_income']]\n",
    "county_block_group.head(3)"
   ]
  },
  {
   "cell_type": "code",
   "execution_count": 21,
   "metadata": {},
   "outputs": [],
   "source": [
    "# Write `county_block_group` to CSV\n",
    "county_block_group.to_csv(r'data/2020.02.25_pa_county_block_group.csv')"
   ]
  },
  {
   "cell_type": "markdown",
   "metadata": {},
   "source": [
    "#### Tract-Block Merge"
   ]
  },
  {
   "cell_type": "code",
   "execution_count": 22,
   "metadata": {},
   "outputs": [],
   "source": [
    "# Merge `block_group_cleaned` and `tract_cleaned`\n",
    "tract_block_group = block_group_cleaned.merge(tract_cleaned, \n",
    "                                              left_on = block_group_cleaned['block_group_fips'].astype('str').str[:-1], \n",
    "                                              right_on = tract_cleaned['tract_fips'].astype('str'))\n",
    "tract_block_group = tract_block_group.drop(['key_0'], axis = 1)"
   ]
  },
  {
   "cell_type": "code",
   "execution_count": 23,
   "metadata": {},
   "outputs": [
    {
     "data": {
      "text/html": [
       "<div>\n",
       "<style scoped>\n",
       "    .dataframe tbody tr th:only-of-type {\n",
       "        vertical-align: middle;\n",
       "    }\n",
       "\n",
       "    .dataframe tbody tr th {\n",
       "        vertical-align: top;\n",
       "    }\n",
       "\n",
       "    .dataframe thead th {\n",
       "        text-align: right;\n",
       "    }\n",
       "</style>\n",
       "<table border=\"1\" class=\"dataframe\">\n",
       "  <thead>\n",
       "    <tr style=\"text-align: right;\">\n",
       "      <th></th>\n",
       "      <th>block_group_fips</th>\n",
       "      <th>block_group</th>\n",
       "      <th>block_group_income</th>\n",
       "      <th>tract_fips</th>\n",
       "      <th>tract</th>\n",
       "      <th>tract_income</th>\n",
       "      <th>state</th>\n",
       "      <th>state_fips</th>\n",
       "    </tr>\n",
       "  </thead>\n",
       "  <tbody>\n",
       "    <tr>\n",
       "      <th>0</th>\n",
       "      <td>420035003001</td>\n",
       "      <td>Block Group 1</td>\n",
       "      <td>38191.0</td>\n",
       "      <td>42003500300</td>\n",
       "      <td>Census Tract 5003</td>\n",
       "      <td>36719.0</td>\n",
       "      <td>Pennsylvania</td>\n",
       "      <td>42</td>\n",
       "    </tr>\n",
       "    <tr>\n",
       "      <th>1</th>\n",
       "      <td>420035003004</td>\n",
       "      <td>Block Group 4</td>\n",
       "      <td>24804.0</td>\n",
       "      <td>42003500300</td>\n",
       "      <td>Census Tract 5003</td>\n",
       "      <td>36719.0</td>\n",
       "      <td>Pennsylvania</td>\n",
       "      <td>42</td>\n",
       "    </tr>\n",
       "    <tr>\n",
       "      <th>2</th>\n",
       "      <td>420035003003</td>\n",
       "      <td>Block Group 3</td>\n",
       "      <td>39408.0</td>\n",
       "      <td>42003500300</td>\n",
       "      <td>Census Tract 5003</td>\n",
       "      <td>36719.0</td>\n",
       "      <td>Pennsylvania</td>\n",
       "      <td>42</td>\n",
       "    </tr>\n",
       "  </tbody>\n",
       "</table>\n",
       "</div>"
      ],
      "text/plain": [
       "   block_group_fips    block_group  block_group_income   tract_fips  \\\n",
       "0      420035003001  Block Group 1             38191.0  42003500300   \n",
       "1      420035003004  Block Group 4             24804.0  42003500300   \n",
       "2      420035003003  Block Group 3             39408.0  42003500300   \n",
       "\n",
       "               tract  tract_income         state state_fips  \n",
       "0  Census Tract 5003       36719.0  Pennsylvania         42  \n",
       "1  Census Tract 5003       36719.0  Pennsylvania         42  \n",
       "2  Census Tract 5003       36719.0  Pennsylvania         42  "
      ]
     },
     "execution_count": 23,
     "metadata": {},
     "output_type": "execute_result"
    }
   ],
   "source": [
    "# Add `state` and `state_fips` columns\n",
    "tract_block_group['state'] = 'Pennsylvania'\n",
    "tract_block_group['state_fips'] = '42'\n",
    "tract_block_group.head(3)"
   ]
  },
  {
   "cell_type": "code",
   "execution_count": 24,
   "metadata": {},
   "outputs": [
    {
     "data": {
      "text/html": [
       "<div>\n",
       "<style scoped>\n",
       "    .dataframe tbody tr th:only-of-type {\n",
       "        vertical-align: middle;\n",
       "    }\n",
       "\n",
       "    .dataframe tbody tr th {\n",
       "        vertical-align: top;\n",
       "    }\n",
       "\n",
       "    .dataframe thead th {\n",
       "        text-align: right;\n",
       "    }\n",
       "</style>\n",
       "<table border=\"1\" class=\"dataframe\">\n",
       "  <thead>\n",
       "    <tr style=\"text-align: right;\">\n",
       "      <th></th>\n",
       "      <th>state</th>\n",
       "      <th>state_fips</th>\n",
       "      <th>tract</th>\n",
       "      <th>tract_fips</th>\n",
       "      <th>tract_income</th>\n",
       "      <th>block_group</th>\n",
       "      <th>block_group_fips</th>\n",
       "      <th>block_group_income</th>\n",
       "    </tr>\n",
       "  </thead>\n",
       "  <tbody>\n",
       "    <tr>\n",
       "      <th>0</th>\n",
       "      <td>Pennsylvania</td>\n",
       "      <td>42</td>\n",
       "      <td>Census Tract 5003</td>\n",
       "      <td>42003500300</td>\n",
       "      <td>36719.0</td>\n",
       "      <td>Block Group 1</td>\n",
       "      <td>420035003001</td>\n",
       "      <td>38191.0</td>\n",
       "    </tr>\n",
       "    <tr>\n",
       "      <th>1</th>\n",
       "      <td>Pennsylvania</td>\n",
       "      <td>42</td>\n",
       "      <td>Census Tract 5003</td>\n",
       "      <td>42003500300</td>\n",
       "      <td>36719.0</td>\n",
       "      <td>Block Group 4</td>\n",
       "      <td>420035003004</td>\n",
       "      <td>24804.0</td>\n",
       "    </tr>\n",
       "    <tr>\n",
       "      <th>2</th>\n",
       "      <td>Pennsylvania</td>\n",
       "      <td>42</td>\n",
       "      <td>Census Tract 5003</td>\n",
       "      <td>42003500300</td>\n",
       "      <td>36719.0</td>\n",
       "      <td>Block Group 3</td>\n",
       "      <td>420035003003</td>\n",
       "      <td>39408.0</td>\n",
       "    </tr>\n",
       "  </tbody>\n",
       "</table>\n",
       "</div>"
      ],
      "text/plain": [
       "          state state_fips              tract   tract_fips  tract_income  \\\n",
       "0  Pennsylvania         42  Census Tract 5003  42003500300       36719.0   \n",
       "1  Pennsylvania         42  Census Tract 5003  42003500300       36719.0   \n",
       "2  Pennsylvania         42  Census Tract 5003  42003500300       36719.0   \n",
       "\n",
       "     block_group  block_group_fips  block_group_income  \n",
       "0  Block Group 1      420035003001             38191.0  \n",
       "1  Block Group 4      420035003004             24804.0  \n",
       "2  Block Group 3      420035003003             39408.0  "
      ]
     },
     "execution_count": 24,
     "metadata": {},
     "output_type": "execute_result"
    }
   ],
   "source": [
    "# Reorder columns\n",
    "tract_block_group = tract_block_group[['state', 'state_fips', 'tract', 'tract_fips', 'tract_income', 'block_group', \n",
    "                                         'block_group_fips', 'block_group_income']]\n",
    "tract_block_group.head(3)"
   ]
  },
  {
   "cell_type": "code",
   "execution_count": 25,
   "metadata": {},
   "outputs": [],
   "source": [
    "# Write `tract_block_group` to CSV\n",
    "county_tract.to_csv(r'data/2020.02.25_pa_tract_block_group.csv')"
   ]
  },
  {
   "cell_type": "markdown",
   "metadata": {},
   "source": [
    "#### Merge All Three Levels of Aggregation"
   ]
  },
  {
   "cell_type": "code",
   "execution_count": 26,
   "metadata": {},
   "outputs": [],
   "source": [
    "# Convert columns types\n",
    "block_group_cleaned['block_group_fips'] = block_group_cleaned['block_group_fips'].astype(np.str)\n",
    "tract_cleaned['tract_fips'] = tract_cleaned['tract_fips'].astype(np.str)\n",
    "county_cleaned['county_fips'] = county_cleaned['county_fips'].astype(np.str)"
   ]
  },
  {
   "cell_type": "code",
   "execution_count": 27,
   "metadata": {},
   "outputs": [],
   "source": [
    "# Add `tract_fips` and `county_fips` columns to `block_group_cleaned\n",
    "block_group_cleaned['tract_fips'] = block_group_cleaned['block_group_fips'].str[:-1]\n",
    "block_group_cleaned['county_fips'] = block_group_cleaned['block_group_fips'].str[:-7]"
   ]
  },
  {
   "cell_type": "code",
   "execution_count": 28,
   "metadata": {},
   "outputs": [],
   "source": [
    "# Merge all three levels of aggregation\n",
    "data = block_group_cleaned.merge(tract_cleaned, how = 'left', on = 'tract_fips')\n",
    "data = data.merge(county_cleaned, how = 'left', on ='county_fips')"
   ]
  },
  {
   "cell_type": "code",
   "execution_count": 29,
   "metadata": {},
   "outputs": [],
   "source": [
    "# Add `state` and `state_fips` columns\n",
    "data['state'] = 'Pennsylvania'\n",
    "data['state_fips'] = '42'"
   ]
  },
  {
   "cell_type": "code",
   "execution_count": 30,
   "metadata": {},
   "outputs": [
    {
     "data": {
      "text/html": [
       "<div>\n",
       "<style scoped>\n",
       "    .dataframe tbody tr th:only-of-type {\n",
       "        vertical-align: middle;\n",
       "    }\n",
       "\n",
       "    .dataframe tbody tr th {\n",
       "        vertical-align: top;\n",
       "    }\n",
       "\n",
       "    .dataframe thead th {\n",
       "        text-align: right;\n",
       "    }\n",
       "</style>\n",
       "<table border=\"1\" class=\"dataframe\">\n",
       "  <thead>\n",
       "    <tr style=\"text-align: right;\">\n",
       "      <th></th>\n",
       "      <th>state</th>\n",
       "      <th>state_fips</th>\n",
       "      <th>county</th>\n",
       "      <th>county_fips</th>\n",
       "      <th>county_income</th>\n",
       "      <th>tract</th>\n",
       "      <th>tract_fips</th>\n",
       "      <th>tract_income</th>\n",
       "      <th>block_group</th>\n",
       "      <th>block_group_fips</th>\n",
       "      <th>block_group_income</th>\n",
       "    </tr>\n",
       "  </thead>\n",
       "  <tbody>\n",
       "    <tr>\n",
       "      <th>0</th>\n",
       "      <td>Pennsylvania</td>\n",
       "      <td>42</td>\n",
       "      <td>Allegheny County</td>\n",
       "      <td>42003</td>\n",
       "      <td>47961</td>\n",
       "      <td>Census Tract 5003</td>\n",
       "      <td>42003500300</td>\n",
       "      <td>36719.0</td>\n",
       "      <td>Block Group 1</td>\n",
       "      <td>420035003001</td>\n",
       "      <td>38191.0</td>\n",
       "    </tr>\n",
       "    <tr>\n",
       "      <th>1</th>\n",
       "      <td>Pennsylvania</td>\n",
       "      <td>42</td>\n",
       "      <td>Allegheny County</td>\n",
       "      <td>42003</td>\n",
       "      <td>47961</td>\n",
       "      <td>Census Tract 4994</td>\n",
       "      <td>42003499400</td>\n",
       "      <td>29391.0</td>\n",
       "      <td>Block Group 2</td>\n",
       "      <td>420034994002</td>\n",
       "      <td>23750.0</td>\n",
       "    </tr>\n",
       "    <tr>\n",
       "      <th>2</th>\n",
       "      <td>Pennsylvania</td>\n",
       "      <td>42</td>\n",
       "      <td>Allegheny County</td>\n",
       "      <td>42003</td>\n",
       "      <td>47961</td>\n",
       "      <td>Census Tract 4994</td>\n",
       "      <td>42003499400</td>\n",
       "      <td>29391.0</td>\n",
       "      <td>Block Group 1</td>\n",
       "      <td>420034994001</td>\n",
       "      <td>33750.0</td>\n",
       "    </tr>\n",
       "  </tbody>\n",
       "</table>\n",
       "</div>"
      ],
      "text/plain": [
       "          state state_fips            county county_fips county_income  \\\n",
       "0  Pennsylvania         42  Allegheny County       42003         47961   \n",
       "1  Pennsylvania         42  Allegheny County       42003         47961   \n",
       "2  Pennsylvania         42  Allegheny County       42003         47961   \n",
       "\n",
       "               tract   tract_fips  tract_income    block_group  \\\n",
       "0  Census Tract 5003  42003500300       36719.0  Block Group 1   \n",
       "1  Census Tract 4994  42003499400       29391.0  Block Group 2   \n",
       "2  Census Tract 4994  42003499400       29391.0  Block Group 1   \n",
       "\n",
       "  block_group_fips  block_group_income  \n",
       "0     420035003001             38191.0  \n",
       "1     420034994002             23750.0  \n",
       "2     420034994001             33750.0  "
      ]
     },
     "execution_count": 30,
     "metadata": {},
     "output_type": "execute_result"
    }
   ],
   "source": [
    "# Reorder columns\n",
    "data = data[['state', 'state_fips', 'county', 'county_fips', 'county_income', 'tract', 'tract_fips', 'tract_income', \n",
    "             'block_group', 'block_group_fips', 'block_group_income']]\n",
    "data.head(3)"
   ]
  },
  {
   "cell_type": "code",
   "execution_count": 31,
   "metadata": {},
   "outputs": [],
   "source": [
    "# Write `data` to CSV\n",
    "data.to_csv(r'data/2020.02.25_pa_data.csv')"
   ]
  },
  {
   "cell_type": "markdown",
   "metadata": {},
   "source": [
    "### Reproduce Table 1 (p. 41)"
   ]
  },
  {
   "cell_type": "code",
   "execution_count": 32,
   "metadata": {},
   "outputs": [],
   "source": [
    "# Create a data frame for Table 1\n",
    "table1 = pd.DataFrame() "
   ]
  },
  {
   "cell_type": "code",
   "execution_count": 33,
   "metadata": {},
   "outputs": [],
   "source": [
    "# Add rows to `table1` \n",
    "table1 = table1.append(data.query(\"county == 'Philadelphia County' and tract == 'Census Tract 8.01' and \" + \n",
    "                                  \"block_group == 'Block Group 1'\"))\n",
    "table1 = table1.append(data.query(\"county == 'Philadelphia County' and tract == 'Census Tract 8.03' and \" +  \n",
    "                                  \"block_group == 'Block Group 1'\"))\n",
    "table1 = table1.append(data.query(\"county == 'Philadelphia County' and tract == 'Census Tract 8.03' and \" +  \n",
    "                                  \"block_group == 'Block Group 2'\"))\n",
    "table1 = table1.append(data.query(\"county == 'Philadelphia County' and tract == 'Census Tract 8.03' and \" +  \n",
    "                                  \"block_group == 'Block Group 3'\"))\n",
    "table1 = table1.append(data.query(\"county == 'Philadelphia County' and tract == 'Census Tract 8.03' and \" +  \n",
    "                                  \"block_group == 'Block Group 4'\"))\n",
    "table1 = table1.append(data.query(\"county == 'Philadelphia County' and tract == 'Census Tract 8.04' and \" +  \n",
    "                                  \"block_group == 'Block Group 1'\"))\n",
    "table1 = table1.append(data.query(\"county == 'Philadelphia County' and tract == 'Census Tract 8.04' and \" +  \n",
    "                                  \"block_group == 'Block Group 2'\"))\n",
    "table1 = table1.append(data.query(\"county == 'Philadelphia County' and tract == 'Census Tract 8.04' and \" +  \n",
    "                                  \"block_group == 'Block Group 3'\"))\n",
    "table1 = table1.append(data.query(\"county == 'Philadelphia County' and tract == 'Census Tract 9.01' and \" +  \n",
    "                                  \"block_group == 'Block Group 1'\"))\n",
    "table1 = table1.append(data.query(\"county == 'Philadelphia County' and tract == 'Census Tract 9.01' and \" +  \n",
    "                                  \"block_group == 'Block Group 2'\"))"
   ]
  },
  {
   "cell_type": "code",
   "execution_count": 34,
   "metadata": {},
   "outputs": [
    {
     "data": {
      "text/html": [
       "<div>\n",
       "<style scoped>\n",
       "    .dataframe tbody tr th:only-of-type {\n",
       "        vertical-align: middle;\n",
       "    }\n",
       "\n",
       "    .dataframe tbody tr th {\n",
       "        vertical-align: top;\n",
       "    }\n",
       "\n",
       "    .dataframe thead th {\n",
       "        text-align: right;\n",
       "    }\n",
       "</style>\n",
       "<table border=\"1\" class=\"dataframe\">\n",
       "  <thead>\n",
       "    <tr style=\"text-align: right;\">\n",
       "      <th></th>\n",
       "      <th>state</th>\n",
       "      <th>county</th>\n",
       "      <th>county_income</th>\n",
       "      <th>tract</th>\n",
       "      <th>tract_income</th>\n",
       "      <th>block_group</th>\n",
       "      <th>block_group_income</th>\n",
       "    </tr>\n",
       "  </thead>\n",
       "  <tbody>\n",
       "    <tr>\n",
       "      <th>8223</th>\n",
       "      <td>Pennsylvania</td>\n",
       "      <td>Philadelphia County</td>\n",
       "      <td>36251</td>\n",
       "      <td>Census Tract 8.01</td>\n",
       "      <td>79000.0</td>\n",
       "      <td>Block Group 1</td>\n",
       "      <td>79000.0</td>\n",
       "    </tr>\n",
       "    <tr>\n",
       "      <th>8825</th>\n",
       "      <td>Pennsylvania</td>\n",
       "      <td>Philadelphia County</td>\n",
       "      <td>36251</td>\n",
       "      <td>Census Tract 8.03</td>\n",
       "      <td>59135.0</td>\n",
       "      <td>Block Group 1</td>\n",
       "      <td>40795.0</td>\n",
       "    </tr>\n",
       "    <tr>\n",
       "      <th>7608</th>\n",
       "      <td>Pennsylvania</td>\n",
       "      <td>Philadelphia County</td>\n",
       "      <td>36251</td>\n",
       "      <td>Census Tract 8.03</td>\n",
       "      <td>59135.0</td>\n",
       "      <td>Block Group 2</td>\n",
       "      <td>51574.0</td>\n",
       "    </tr>\n",
       "    <tr>\n",
       "      <th>8827</th>\n",
       "      <td>Pennsylvania</td>\n",
       "      <td>Philadelphia County</td>\n",
       "      <td>36251</td>\n",
       "      <td>Census Tract 8.03</td>\n",
       "      <td>59135.0</td>\n",
       "      <td>Block Group 3</td>\n",
       "      <td>106658.0</td>\n",
       "    </tr>\n",
       "    <tr>\n",
       "      <th>7605</th>\n",
       "      <td>Pennsylvania</td>\n",
       "      <td>Philadelphia County</td>\n",
       "      <td>36251</td>\n",
       "      <td>Census Tract 8.03</td>\n",
       "      <td>59135.0</td>\n",
       "      <td>Block Group 4</td>\n",
       "      <td>107727.0</td>\n",
       "    </tr>\n",
       "    <tr>\n",
       "      <th>7841</th>\n",
       "      <td>Pennsylvania</td>\n",
       "      <td>Philadelphia County</td>\n",
       "      <td>36251</td>\n",
       "      <td>Census Tract 8.04</td>\n",
       "      <td>62589.0</td>\n",
       "      <td>Block Group 1</td>\n",
       "      <td>64643.0</td>\n",
       "    </tr>\n",
       "    <tr>\n",
       "      <th>7607</th>\n",
       "      <td>Pennsylvania</td>\n",
       "      <td>Philadelphia County</td>\n",
       "      <td>36251</td>\n",
       "      <td>Census Tract 8.04</td>\n",
       "      <td>62589.0</td>\n",
       "      <td>Block Group 2</td>\n",
       "      <td>72431.0</td>\n",
       "    </tr>\n",
       "    <tr>\n",
       "      <th>7604</th>\n",
       "      <td>Pennsylvania</td>\n",
       "      <td>Philadelphia County</td>\n",
       "      <td>36251</td>\n",
       "      <td>Census Tract 8.04</td>\n",
       "      <td>62589.0</td>\n",
       "      <td>Block Group 3</td>\n",
       "      <td>48750.0</td>\n",
       "    </tr>\n",
       "    <tr>\n",
       "      <th>7845</th>\n",
       "      <td>Pennsylvania</td>\n",
       "      <td>Philadelphia County</td>\n",
       "      <td>36251</td>\n",
       "      <td>Census Tract 9.01</td>\n",
       "      <td>39265.0</td>\n",
       "      <td>Block Group 1</td>\n",
       "      <td>53897.0</td>\n",
       "    </tr>\n",
       "    <tr>\n",
       "      <th>7844</th>\n",
       "      <td>Pennsylvania</td>\n",
       "      <td>Philadelphia County</td>\n",
       "      <td>36251</td>\n",
       "      <td>Census Tract 9.01</td>\n",
       "      <td>39265.0</td>\n",
       "      <td>Block Group 2</td>\n",
       "      <td>25810.0</td>\n",
       "    </tr>\n",
       "  </tbody>\n",
       "</table>\n",
       "</div>"
      ],
      "text/plain": [
       "             state               county county_income              tract  \\\n",
       "8223  Pennsylvania  Philadelphia County         36251  Census Tract 8.01   \n",
       "8825  Pennsylvania  Philadelphia County         36251  Census Tract 8.03   \n",
       "7608  Pennsylvania  Philadelphia County         36251  Census Tract 8.03   \n",
       "8827  Pennsylvania  Philadelphia County         36251  Census Tract 8.03   \n",
       "7605  Pennsylvania  Philadelphia County         36251  Census Tract 8.03   \n",
       "7841  Pennsylvania  Philadelphia County         36251  Census Tract 8.04   \n",
       "7607  Pennsylvania  Philadelphia County         36251  Census Tract 8.04   \n",
       "7604  Pennsylvania  Philadelphia County         36251  Census Tract 8.04   \n",
       "7845  Pennsylvania  Philadelphia County         36251  Census Tract 9.01   \n",
       "7844  Pennsylvania  Philadelphia County         36251  Census Tract 9.01   \n",
       "\n",
       "      tract_income    block_group  block_group_income  \n",
       "8223       79000.0  Block Group 1             79000.0  \n",
       "8825       59135.0  Block Group 1             40795.0  \n",
       "7608       59135.0  Block Group 2             51574.0  \n",
       "8827       59135.0  Block Group 3            106658.0  \n",
       "7605       59135.0  Block Group 4            107727.0  \n",
       "7841       62589.0  Block Group 1             64643.0  \n",
       "7607       62589.0  Block Group 2             72431.0  \n",
       "7604       62589.0  Block Group 3             48750.0  \n",
       "7845       39265.0  Block Group 1             53897.0  \n",
       "7844       39265.0  Block Group 2             25810.0  "
      ]
     },
     "execution_count": 34,
     "metadata": {},
     "output_type": "execute_result"
    }
   ],
   "source": [
    "# Drop columns\n",
    "table1 = table1.drop(['state_fips', 'county_fips', 'tract_fips', 'block_group_fips'], axis = 1)\n",
    "table1"
   ]
  }
 ],
 "metadata": {
  "kernelspec": {
   "display_name": "Python 3",
   "language": "python",
   "name": "python3"
  },
  "language_info": {
   "codemirror_mode": {
    "name": "ipython",
    "version": 3
   },
   "file_extension": ".py",
   "mimetype": "text/x-python",
   "name": "python",
   "nbconvert_exporter": "python",
   "pygments_lexer": "ipython3",
   "version": "3.6.9"
  }
 },
 "nbformat": 4,
 "nbformat_minor": 2
}
